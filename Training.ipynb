{
 "cells": [
  {
   "cell_type": "markdown",
   "metadata": {},
   "source": [
    "TEST TRAINING WITH ADANIENT DATASET"
   ]
  },
  {
   "cell_type": "code",
   "execution_count": 193,
   "metadata": {},
   "outputs": [],
   "source": [
    "import pandas as pd\n",
    "import os\n",
    "import matplotlib.pyplot as plt\n",
    "from sklearn.model_selection import train_test_split\n",
    "import ta\n",
    "import seaborn as sns\n",
    "from tensorflow.keras.models import Sequential\n",
    "from tensorflow.keras.layers import Dense\n",
    "from tensorflow.keras.losses import MeanSquaredError"
   ]
  },
  {
   "cell_type": "code",
   "execution_count": null,
   "metadata": {},
   "outputs": [],
   "source": [
    "\n",
    "working_dir = os.getcwd()\n",
    "\n",
    "# Construct the path to the 'data' directory relative to the working directory\n",
    "folder_path = os.path.join(working_dir, \"data\")\n",
    "df = pd.read_csv(os.path.join(folder_path, \"updated_ADANIENT.csv\"))\n",
    "df = df.drop([\"Ticker\"], axis=1)\n",
    "df['SMA_14'] = df['Close'].rolling(window=14).mean()\n",
    "df.loc[0:13, 'SMA_14'] = df.loc[13, 'SMA_14']\n",
    "df['EMA_14'] = df['Close'].ewm(span=14, adjust=False).mean()\n",
    "df['RSI'] = ta.momentum.RSIIndicator(df['Close'], window=14).rsi()\n",
    "df.loc[0:13, 'RSI'] = df.loc[13, 'RSI']\n",
    "df['Upper_Band'] = df['SMA_14'] + (df['Close'].rolling(window=14).std() * 2)\n",
    "df['Lower_Band'] = df['SMA_14'] - (df['Close'].rolling(window=14).std() * 2)\n",
    "df = df[13::]\n",
    "df.head(30)"
   ]
  },
  {
   "cell_type": "code",
   "execution_count": null,
   "metadata": {},
   "outputs": [],
   "source": [
    "df['Date'] = pd.to_datetime(df['Date'])\n",
    "df = df.sort_values('Date')\n",
    "\n",
    "plt.figure(figsize=(10, 6))\n",
    "plt.plot(df['Date'], df['Close'], label='Close Price')\n",
    "plt.title('Stock Closing Price Over Time')\n",
    "plt.xlabel('Date')\n",
    "plt.ylabel('Close Price')\n",
    "plt.legend()\n",
    "plt.show()\n"
   ]
  },
  {
   "cell_type": "code",
   "execution_count": null,
   "metadata": {},
   "outputs": [],
   "source": [
    "plt.figure(figsize=(10, 6))\n",
    "plt.plot(df['Date'], df['Volume'], label='Volume', color='orange')\n",
    "plt.title('Trading Volume Over Time')\n",
    "plt.xlabel('Date')\n",
    "plt.ylabel('Volume')\n",
    "plt.legend()\n",
    "plt.show()"
   ]
  },
  {
   "cell_type": "code",
   "execution_count": null,
   "metadata": {},
   "outputs": [],
   "source": [
    "df['Date'] = pd.to_datetime(df['Date'])\n",
    "df = df.sort_values('Date')\n",
    "\n",
    "plt.figure(figsize=(10, 6))\n",
    "plt.plot(df['Date'], df['RSI'], label='RSI Price')\n",
    "plt.title('RSI Over Time')\n",
    "plt.xlabel('Date')\n",
    "plt.ylabel('RSI')\n",
    "plt.legend()\n",
    "plt.show()"
   ]
  },
  {
   "cell_type": "code",
   "execution_count": null,
   "metadata": {},
   "outputs": [],
   "source": [
    "df['Date'] = pd.to_datetime(df['Date'])\n",
    "df = df.sort_values('Date')\n",
    "\n",
    "plt.figure(figsize=(10, 6))\n",
    "plt.plot(df['Date'], df['Upper_Band'], label='Upper Band')\n",
    "plt.plot(df['Date'], df['Lower_Band'], label='Lower Band')\n",
    "plt.title('UB vs LB Over Time')\n",
    "plt.xlabel('Date')\n",
    "plt.ylabel('RSI')\n",
    "plt.legend()\n",
    "plt.show()"
   ]
  },
  {
   "cell_type": "code",
   "execution_count": 199,
   "metadata": {},
   "outputs": [],
   "source": [
    "df = df.drop(['Date'], axis=1)\n",
    "X = df[['Open', 'High', 'Low', 'Volume']]\n",
    "y = df['Close']\n",
    "\n",
    "X_train, X_test, y_train, y_test = train_test_split(X,y, test_size=0.8, random_state=101)"
   ]
  },
  {
   "cell_type": "code",
   "execution_count": 204,
   "metadata": {},
   "outputs": [],
   "source": [
    "sequence_model = Sequential()\n",
    "sequence_model.add(Dense(50,activation=\"relu\"))\n",
    "sequence_model.add(Dense(50,activation=\"relu\"))\n",
    "sequence_model.add(Dense(25,activation=\"relu\"))\n",
    "sequence_model.add(Dense(1))\n",
    "\n",
    "sequence_model.compile(optimizer=\"adam\",loss=MeanSquaredError())"
   ]
  },
  {
   "cell_type": "code",
   "execution_count": null,
   "metadata": {},
   "outputs": [],
   "source": [
    "sequence_model.fit(x=X_train,y=y_train,epochs=300,verbose=2)"
   ]
  },
  {
   "cell_type": "code",
   "execution_count": null,
   "metadata": {},
   "outputs": [],
   "source": [
    "loss_df = pd.DataFrame(sequence_model.history.history)\n",
    "\n",
    "loss_df.plot()"
   ]
  },
  {
   "cell_type": "code",
   "execution_count": null,
   "metadata": {},
   "outputs": [],
   "source": [
    "sequence_model.evaluate(X_train,y_train,verbose=0)"
   ]
  },
  {
   "cell_type": "code",
   "execution_count": null,
   "metadata": {},
   "outputs": [],
   "source": []
  }
 ],
 "metadata": {
  "kernelspec": {
   "display_name": ".venv",
   "language": "python",
   "name": "python3"
  },
  "language_info": {
   "codemirror_mode": {
    "name": "ipython",
    "version": 3
   },
   "file_extension": ".py",
   "mimetype": "text/x-python",
   "name": "python",
   "nbconvert_exporter": "python",
   "pygments_lexer": "ipython3",
   "version": "3.11.9"
  }
 },
 "nbformat": 4,
 "nbformat_minor": 2
}
