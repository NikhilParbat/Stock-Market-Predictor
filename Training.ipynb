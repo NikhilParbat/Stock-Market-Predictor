{
 "cells": [
  {
   "cell_type": "markdown",
   "metadata": {},
   "source": [
    "TEST TRAINING WITH ADANIENT DATASET"
   ]
  },
  {
   "cell_type": "code",
   "execution_count": 16,
   "metadata": {},
   "outputs": [],
   "source": [
    "import pandas as pd\n",
    "import os\n",
    "import matplotlib.pyplot as plt\n",
    "from sklearn.model_selection import train_test_split\n",
    "import ta\n",
    "import seaborn as sns\n",
    "from tensorflow.keras.models import Sequential\n",
    "from tensorflow.keras.layers import Dense\n",
    "from tensorflow.keras.losses import MeanSquaredError"
   ]
  },
  {
   "cell_type": "code",
   "execution_count": 3,
   "metadata": {},
   "outputs": [
    {
     "data": {
      "text/html": [
       "<div>\n",
       "<style scoped>\n",
       "    .dataframe tbody tr th:only-of-type {\n",
       "        vertical-align: middle;\n",
       "    }\n",
       "\n",
       "    .dataframe tbody tr th {\n",
       "        vertical-align: top;\n",
       "    }\n",
       "\n",
       "    .dataframe thead th {\n",
       "        text-align: right;\n",
       "    }\n",
       "</style>\n",
       "<table border=\"1\" class=\"dataframe\">\n",
       "  <thead>\n",
       "    <tr style=\"text-align: right;\">\n",
       "      <th></th>\n",
       "      <th>Date</th>\n",
       "      <th>Close</th>\n",
       "      <th>High</th>\n",
       "      <th>Low</th>\n",
       "      <th>Open</th>\n",
       "      <th>Volume</th>\n",
       "      <th>SMA_14</th>\n",
       "      <th>EMA_14</th>\n",
       "      <th>RSI</th>\n",
       "      <th>Upper_Band</th>\n",
       "      <th>Lower_Band</th>\n",
       "    </tr>\n",
       "  </thead>\n",
       "  <tbody>\n",
       "    <tr>\n",
       "      <th>0</th>\n",
       "      <td>2020-01-01</td>\n",
       "      <td>205.827087</td>\n",
       "      <td>208.401774</td>\n",
       "      <td>204.638754</td>\n",
       "      <td>206.965889</td>\n",
       "      <td>1553127</td>\n",
       "      <td>210.010972</td>\n",
       "      <td>205.827087</td>\n",
       "      <td>73.732752</td>\n",
       "      <td>NaN</td>\n",
       "      <td>NaN</td>\n",
       "    </tr>\n",
       "    <tr>\n",
       "      <th>1</th>\n",
       "      <td>2020-01-02</td>\n",
       "      <td>209.144501</td>\n",
       "      <td>211.125036</td>\n",
       "      <td>205.480514</td>\n",
       "      <td>205.975648</td>\n",
       "      <td>2991937</td>\n",
       "      <td>210.010972</td>\n",
       "      <td>206.269409</td>\n",
       "      <td>73.732752</td>\n",
       "      <td>NaN</td>\n",
       "      <td>NaN</td>\n",
       "    </tr>\n",
       "    <tr>\n",
       "      <th>2</th>\n",
       "      <td>2020-01-03</td>\n",
       "      <td>206.272736</td>\n",
       "      <td>210.283322</td>\n",
       "      <td>203.797067</td>\n",
       "      <td>208.203754</td>\n",
       "      <td>2512421</td>\n",
       "      <td>210.010972</td>\n",
       "      <td>206.269853</td>\n",
       "      <td>73.732752</td>\n",
       "      <td>NaN</td>\n",
       "      <td>NaN</td>\n",
       "    </tr>\n",
       "    <tr>\n",
       "      <th>3</th>\n",
       "      <td>2020-01-06</td>\n",
       "      <td>197.607880</td>\n",
       "      <td>205.728070</td>\n",
       "      <td>195.825395</td>\n",
       "      <td>205.728070</td>\n",
       "      <td>4353179</td>\n",
       "      <td>210.010972</td>\n",
       "      <td>205.114923</td>\n",
       "      <td>73.732752</td>\n",
       "      <td>NaN</td>\n",
       "      <td>NaN</td>\n",
       "    </tr>\n",
       "    <tr>\n",
       "      <th>4</th>\n",
       "      <td>2020-01-07</td>\n",
       "      <td>202.064072</td>\n",
       "      <td>203.698007</td>\n",
       "      <td>198.598136</td>\n",
       "      <td>198.598136</td>\n",
       "      <td>2966120</td>\n",
       "      <td>210.010972</td>\n",
       "      <td>204.708143</td>\n",
       "      <td>73.732752</td>\n",
       "      <td>NaN</td>\n",
       "      <td>NaN</td>\n",
       "    </tr>\n",
       "  </tbody>\n",
       "</table>\n",
       "</div>"
      ],
      "text/plain": [
       "         Date       Close        High         Low        Open   Volume  \\\n",
       "0  2020-01-01  205.827087  208.401774  204.638754  206.965889  1553127   \n",
       "1  2020-01-02  209.144501  211.125036  205.480514  205.975648  2991937   \n",
       "2  2020-01-03  206.272736  210.283322  203.797067  208.203754  2512421   \n",
       "3  2020-01-06  197.607880  205.728070  195.825395  205.728070  4353179   \n",
       "4  2020-01-07  202.064072  203.698007  198.598136  198.598136  2966120   \n",
       "\n",
       "       SMA_14      EMA_14        RSI  Upper_Band  Lower_Band  \n",
       "0  210.010972  205.827087  73.732752         NaN         NaN  \n",
       "1  210.010972  206.269409  73.732752         NaN         NaN  \n",
       "2  210.010972  206.269853  73.732752         NaN         NaN  \n",
       "3  210.010972  205.114923  73.732752         NaN         NaN  \n",
       "4  210.010972  204.708143  73.732752         NaN         NaN  "
      ]
     },
     "execution_count": 3,
     "metadata": {},
     "output_type": "execute_result"
    }
   ],
   "source": [
    "\n",
    "working_dir = os.getcwd()\n",
    "\n",
    "# Construct the path to the 'data' directory relative to the working directory\n",
    "folder_path = os.path.join(working_dir, \"data\")\n",
    "df = pd.read_csv(os.path.join(folder_path, \"updated_ADANIENT.csv\"))\n",
    "df = df.drop([\"Ticker\"], axis=1)\n",
    "df['SMA_14'] = df['Close'].rolling(window=14).mean()\n",
    "df.loc[0:13, 'SMA_14'] = df.loc[13, 'SMA_14']\n",
    "df['EMA_14'] = df['Close'].ewm(span=14, adjust=False).mean()\n",
    "df['RSI'] = ta.momentum.RSIIndicator(df['Close'], window=14).rsi()\n",
    "df.loc[0:13, 'RSI'] = df.loc[13, 'RSI']\n",
    "df['Upper_Band'] = df['SMA_14'] + (df['Close'].rolling(window=14).std() * 2)\n",
    "df['Lower_Band'] = df['SMA_14'] - (df['Close'].rolling(window=14).std() * 2)\n",
    "df.head()"
   ]
  },
  {
   "cell_type": "code",
   "execution_count": null,
   "metadata": {},
   "outputs": [],
   "source": [
    "df['Date'] = pd.to_datetime(df['Date'])\n",
    "df = df.sort_values('Date')\n",
    "\n",
    "plt.figure(figsize=(10, 6))\n",
    "plt.plot(df['Date'], df['Close'], label='Close Price')\n",
    "plt.title('Stock Closing Price Over Time')\n",
    "plt.xlabel('Date')\n",
    "plt.ylabel('Close Price')\n",
    "plt.legend()\n",
    "plt.show()\n"
   ]
  },
  {
   "cell_type": "code",
   "execution_count": null,
   "metadata": {},
   "outputs": [],
   "source": [
    "plt.figure(figsize=(10, 6))\n",
    "plt.plot(df['Date'], df['Volume'], label='Volume', color='orange')\n",
    "plt.title('Trading Volume Over Time')\n",
    "plt.xlabel('Date')\n",
    "plt.ylabel('Volume')\n",
    "plt.legend()\n",
    "plt.show()"
   ]
  },
  {
   "cell_type": "code",
   "execution_count": null,
   "metadata": {},
   "outputs": [],
   "source": [
    "df['Date'] = pd.to_datetime(df['Date'])\n",
    "df = df.sort_values('Date')\n",
    "\n",
    "plt.figure(figsize=(10, 6))\n",
    "plt.plot(df['Date'], df['RSI'], label='RSI Price')\n",
    "plt.title('RSI Over Time')\n",
    "plt.xlabel('Date')\n",
    "plt.ylabel('RSI')\n",
    "plt.legend()\n",
    "plt.show()"
   ]
  },
  {
   "cell_type": "code",
   "execution_count": null,
   "metadata": {},
   "outputs": [],
   "source": [
    "df['Date'] = pd.to_datetime(df['Date'])\n",
    "df = df.sort_values('Date')\n",
    "\n",
    "plt.figure(figsize=(10, 6))\n",
    "plt.plot(df['Date'], df['Upper_Band'], label='Upper Band')\n",
    "plt.plot(df['Date'], df['Lower_Band'], label='Lower Band')\n",
    "plt.title('UB vs LB Over Time')\n",
    "plt.xlabel('Date')\n",
    "plt.ylabel('RSI')\n",
    "plt.legend()\n",
    "plt.show()"
   ]
  },
  {
   "cell_type": "code",
   "execution_count": 14,
   "metadata": {},
   "outputs": [],
   "source": [
    "X = df.drop('Close', axis=1)\n",
    "y = df['Close']\n",
    "\n",
    "X_train, X_test, y_train, y_test = train_test_split(X,y, test_size=0.8, random_state=101)"
   ]
  },
  {
   "cell_type": "code",
   "execution_count": 19,
   "metadata": {},
   "outputs": [],
   "source": [
    "sequence_model = Sequential()\n",
    "sequence_model.add(Dense(20,activation=\"relu\"))\n",
    "sequence_model.add(Dense(20,activation=\"relu\"))\n",
    "sequence_model.add(Dense(10,activation=\"relu\"))\n",
    "sequence_model.add(Dense(1))\n",
    "\n",
    "sequence_model.compile(optimizer=\"adam\",loss=MeanSquaredError())"
   ]
  },
  {
   "cell_type": "code",
   "execution_count": null,
   "metadata": {},
   "outputs": [],
   "source": [
    "sequence_model.fit(x=X_train,y=y_train,epochs=400,verbose=2)"
   ]
  },
  {
   "cell_type": "code",
   "execution_count": null,
   "metadata": {},
   "outputs": [],
   "source": [
    "loss_df = pd.DataFrame(sequence_model.history.history)\n",
    "\n",
    "loss_df.plot()"
   ]
  },
  {
   "cell_type": "code",
   "execution_count": null,
   "metadata": {},
   "outputs": [],
   "source": [
    "sequence_model.evaluate(X_train,y_train,verbose=0)"
   ]
  }
 ],
 "metadata": {
  "kernelspec": {
   "display_name": ".venv",
   "language": "python",
   "name": "python3"
  },
  "language_info": {
   "codemirror_mode": {
    "name": "ipython",
    "version": 3
   },
   "file_extension": ".py",
   "mimetype": "text/x-python",
   "name": "python",
   "nbconvert_exporter": "python",
   "pygments_lexer": "ipython3",
   "version": "3.11.9"
  }
 },
 "nbformat": 4,
 "nbformat_minor": 2
}
