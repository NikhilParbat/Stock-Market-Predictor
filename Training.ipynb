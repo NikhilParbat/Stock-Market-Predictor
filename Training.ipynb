{
 "cells": [
  {
   "cell_type": "markdown",
   "metadata": {},
   "source": [
    "TEST TRAINING WITH ADANIENT DATASET"
   ]
  },
  {
   "cell_type": "code",
   "execution_count": 2,
   "metadata": {},
   "outputs": [],
   "source": [
    "import pandas as pd\n",
    "import os\n",
    "from sklearn.model_selection import train_test_split"
   ]
  },
  {
   "cell_type": "code",
   "execution_count": 3,
   "metadata": {},
   "outputs": [
    {
     "data": {
      "text/html": [
       "<div>\n",
       "<style scoped>\n",
       "    .dataframe tbody tr th:only-of-type {\n",
       "        vertical-align: middle;\n",
       "    }\n",
       "\n",
       "    .dataframe tbody tr th {\n",
       "        vertical-align: top;\n",
       "    }\n",
       "\n",
       "    .dataframe thead th {\n",
       "        text-align: right;\n",
       "    }\n",
       "</style>\n",
       "<table border=\"1\" class=\"dataframe\">\n",
       "  <thead>\n",
       "    <tr style=\"text-align: right;\">\n",
       "      <th></th>\n",
       "      <th>Ticker</th>\n",
       "      <th>Date</th>\n",
       "      <th>Close</th>\n",
       "      <th>High</th>\n",
       "      <th>Low</th>\n",
       "      <th>Open</th>\n",
       "      <th>Volume</th>\n",
       "    </tr>\n",
       "  </thead>\n",
       "  <tbody>\n",
       "    <tr>\n",
       "      <th>0</th>\n",
       "      <td>ADANIENT.NS</td>\n",
       "      <td>2020-01-01</td>\n",
       "      <td>205.827087</td>\n",
       "      <td>208.401774</td>\n",
       "      <td>204.638754</td>\n",
       "      <td>206.965889</td>\n",
       "      <td>1553127</td>\n",
       "    </tr>\n",
       "    <tr>\n",
       "      <th>1</th>\n",
       "      <td>ADANIENT.NS</td>\n",
       "      <td>2020-01-02</td>\n",
       "      <td>209.144501</td>\n",
       "      <td>211.125036</td>\n",
       "      <td>205.480514</td>\n",
       "      <td>205.975648</td>\n",
       "      <td>2991937</td>\n",
       "    </tr>\n",
       "    <tr>\n",
       "      <th>2</th>\n",
       "      <td>ADANIENT.NS</td>\n",
       "      <td>2020-01-03</td>\n",
       "      <td>206.272736</td>\n",
       "      <td>210.283322</td>\n",
       "      <td>203.797067</td>\n",
       "      <td>208.203754</td>\n",
       "      <td>2512421</td>\n",
       "    </tr>\n",
       "    <tr>\n",
       "      <th>3</th>\n",
       "      <td>ADANIENT.NS</td>\n",
       "      <td>2020-01-06</td>\n",
       "      <td>197.607880</td>\n",
       "      <td>205.728070</td>\n",
       "      <td>195.825395</td>\n",
       "      <td>205.728070</td>\n",
       "      <td>4353179</td>\n",
       "    </tr>\n",
       "    <tr>\n",
       "      <th>4</th>\n",
       "      <td>ADANIENT.NS</td>\n",
       "      <td>2020-01-07</td>\n",
       "      <td>202.064072</td>\n",
       "      <td>203.698007</td>\n",
       "      <td>198.598136</td>\n",
       "      <td>198.598136</td>\n",
       "      <td>2966120</td>\n",
       "    </tr>\n",
       "  </tbody>\n",
       "</table>\n",
       "</div>"
      ],
      "text/plain": [
       "        Ticker        Date       Close        High         Low        Open  \\\n",
       "0  ADANIENT.NS  2020-01-01  205.827087  208.401774  204.638754  206.965889   \n",
       "1  ADANIENT.NS  2020-01-02  209.144501  211.125036  205.480514  205.975648   \n",
       "2  ADANIENT.NS  2020-01-03  206.272736  210.283322  203.797067  208.203754   \n",
       "3  ADANIENT.NS  2020-01-06  197.607880  205.728070  195.825395  205.728070   \n",
       "4  ADANIENT.NS  2020-01-07  202.064072  203.698007  198.598136  198.598136   \n",
       "\n",
       "    Volume  \n",
       "0  1553127  \n",
       "1  2991937  \n",
       "2  2512421  \n",
       "3  4353179  \n",
       "4  2966120  "
      ]
     },
     "execution_count": 3,
     "metadata": {},
     "output_type": "execute_result"
    }
   ],
   "source": [
    "df = pd.read_csv(r\"C:\\Project\\Python Datasets\\Stock-Market-Predictor\\data\\updated_ADANIENT.csv\")\n",
    "df.head()"
   ]
  },
  {
   "cell_type": "code",
   "execution_count": null,
   "metadata": {},
   "outputs": [],
   "source": []
  }
 ],
 "metadata": {
  "kernelspec": {
   "display_name": ".venv",
   "language": "python",
   "name": "python3"
  },
  "language_info": {
   "codemirror_mode": {
    "name": "ipython",
    "version": 3
   },
   "file_extension": ".py",
   "mimetype": "text/x-python",
   "name": "python",
   "nbconvert_exporter": "python",
   "pygments_lexer": "ipython3",
   "version": "3.11.9"
  }
 },
 "nbformat": 4,
 "nbformat_minor": 2
}
